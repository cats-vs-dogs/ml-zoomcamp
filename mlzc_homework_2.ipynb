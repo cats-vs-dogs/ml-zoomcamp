{
 "cells": [
  {
   "cell_type": "code",
   "execution_count": 15,
   "id": "d97b7a40-7af1-4863-b0ed-f56692280e57",
   "metadata": {},
   "outputs": [],
   "source": [
    "import numpy as np\n",
    "import pandas as pd\n",
    "import matplotlib.pyplot as plt\n",
    "import seaborn as sns\n",
    "%matplotlib inline"
   ]
  },
  {
   "cell_type": "markdown",
   "id": "66e34640-e47a-4c0a-94cf-36bcca88befc",
   "metadata": {},
   "source": [
    "#### EDA"
   ]
  },
  {
   "cell_type": "code",
   "execution_count": 6,
   "id": "1ccef0d0-4d7d-4244-975a-9ad977d02b19",
   "metadata": {
    "collapsed": true,
    "jupyter": {
     "outputs_hidden": true
    },
    "tags": []
   },
   "outputs": [
    {
     "name": "stderr",
     "output_type": "stream",
     "text": [
      "--2022-09-17 10:25:48--  https://raw.githubusercontent.com/alexeygrigorev/datasets/master/housing.csv\n",
      "Resolving raw.githubusercontent.com (raw.githubusercontent.com)... 185.199.108.133, 185.199.109.133, 185.199.111.133, ...\n",
      "Connecting to raw.githubusercontent.com (raw.githubusercontent.com)|185.199.108.133|:443... connected.\n",
      "HTTP request sent, awaiting response... 200 OK\n",
      "Length: 1423529 (1.4M) [text/plain]\n",
      "Saving to: 'housing.csv'\n",
      "\n",
      "     0K .......... .......... .......... .......... ..........  3% 2.47M 1s\n",
      "    50K .......... .......... .......... .......... ..........  7% 6.93M 0s\n",
      "   100K .......... .......... .......... .......... .......... 10% 4.66M 0s\n",
      "   150K .......... .......... .......... .......... .......... 14% 4.39M 0s\n",
      "   200K .......... .......... .......... .......... .......... 17% 5.19M 0s\n",
      "   250K .......... .......... .......... .......... .......... 21% 4.16M 0s\n",
      "   300K .......... .......... .......... .......... .......... 25% 6.97M 0s\n",
      "   350K .......... .......... .......... .......... .......... 28% 4.81M 0s\n",
      "   400K .......... .......... .......... .......... .......... 32% 5.58M 0s\n",
      "   450K .......... .......... .......... .......... .......... 35% 5.57M 0s\n",
      "   500K .......... .......... .......... .......... .......... 39% 4.76M 0s\n",
      "   550K .......... .......... .......... .......... .......... 43% 7.06M 0s\n",
      "   600K .......... .......... .......... .......... .......... 46% 2.83M 0s\n",
      "   650K .......... .......... .......... .......... .......... 50% 3.53M 0s\n",
      "   700K .......... .......... .......... .......... .......... 53% 5.86M 0s\n",
      "   750K .......... .......... .......... .......... .......... 57% 3.72M 0s\n",
      "   800K .......... .......... .......... .......... .......... 61% 7.56M 0s\n",
      "   850K .......... .......... .......... .......... .......... 64% 2.97M 0s\n",
      "   900K .......... .......... .......... .......... .......... 68% 8.03M 0s\n",
      "   950K .......... .......... .......... .......... .......... 71% 2.96M 0s\n",
      "  1000K .......... .......... .......... .......... .......... 75% 7.65M 0s\n",
      "  1050K .......... .......... .......... .......... .......... 79% 7.37M 0s\n",
      "  1100K .......... .......... .......... .......... .......... 82% 5.95M 0s\n",
      "  1150K .......... .......... .......... .......... .......... 86% 5.56M 0s\n",
      "  1200K .......... .......... .......... .......... .......... 89% 6.41M 0s\n",
      "  1250K .......... .......... .......... .......... .......... 93% 4.74M 0s\n",
      "  1300K .......... .......... .......... .......... .......... 97% 4.62M 0s\n",
      "  1350K .......... .......... .......... ..........           100% 10.9M=0.3s\n",
      "\n",
      "2022-09-17 10:25:48 (4.82 MB/s) - 'housing.csv' saved [1423529/1423529]\n",
      "\n"
     ]
    }
   ],
   "source": [
    "!wget https://raw.githubusercontent.com/alexeygrigorev/datasets/master/housing.csv"
   ]
  },
  {
   "cell_type": "code",
   "execution_count": 291,
   "id": "8367bae8-6059-41ef-be04-3d3f476a96e2",
   "metadata": {},
   "outputs": [],
   "source": [
    "house_data = pd.read_csv('housing.csv')"
   ]
  },
  {
   "cell_type": "code",
   "execution_count": 292,
   "id": "a94db0e5-1b75-4120-9403-3ce7e30ec9f2",
   "metadata": {},
   "outputs": [
    {
     "data": {
      "text/html": [
       "<div>\n",
       "<style scoped>\n",
       "    .dataframe tbody tr th:only-of-type {\n",
       "        vertical-align: middle;\n",
       "    }\n",
       "\n",
       "    .dataframe tbody tr th {\n",
       "        vertical-align: top;\n",
       "    }\n",
       "\n",
       "    .dataframe thead th {\n",
       "        text-align: right;\n",
       "    }\n",
       "</style>\n",
       "<table border=\"1\" class=\"dataframe\">\n",
       "  <thead>\n",
       "    <tr style=\"text-align: right;\">\n",
       "      <th></th>\n",
       "      <th>longitude</th>\n",
       "      <th>latitude</th>\n",
       "      <th>housing_median_age</th>\n",
       "      <th>total_rooms</th>\n",
       "      <th>total_bedrooms</th>\n",
       "      <th>population</th>\n",
       "      <th>households</th>\n",
       "      <th>median_income</th>\n",
       "      <th>median_house_value</th>\n",
       "      <th>ocean_proximity</th>\n",
       "    </tr>\n",
       "  </thead>\n",
       "  <tbody>\n",
       "    <tr>\n",
       "      <th>0</th>\n",
       "      <td>-122.23</td>\n",
       "      <td>37.88</td>\n",
       "      <td>41.0</td>\n",
       "      <td>880.0</td>\n",
       "      <td>129.0</td>\n",
       "      <td>322.0</td>\n",
       "      <td>126.0</td>\n",
       "      <td>8.3252</td>\n",
       "      <td>452600.0</td>\n",
       "      <td>NEAR BAY</td>\n",
       "    </tr>\n",
       "    <tr>\n",
       "      <th>1</th>\n",
       "      <td>-122.22</td>\n",
       "      <td>37.86</td>\n",
       "      <td>21.0</td>\n",
       "      <td>7099.0</td>\n",
       "      <td>1106.0</td>\n",
       "      <td>2401.0</td>\n",
       "      <td>1138.0</td>\n",
       "      <td>8.3014</td>\n",
       "      <td>358500.0</td>\n",
       "      <td>NEAR BAY</td>\n",
       "    </tr>\n",
       "    <tr>\n",
       "      <th>2</th>\n",
       "      <td>-122.24</td>\n",
       "      <td>37.85</td>\n",
       "      <td>52.0</td>\n",
       "      <td>1467.0</td>\n",
       "      <td>190.0</td>\n",
       "      <td>496.0</td>\n",
       "      <td>177.0</td>\n",
       "      <td>7.2574</td>\n",
       "      <td>352100.0</td>\n",
       "      <td>NEAR BAY</td>\n",
       "    </tr>\n",
       "    <tr>\n",
       "      <th>3</th>\n",
       "      <td>-122.25</td>\n",
       "      <td>37.85</td>\n",
       "      <td>52.0</td>\n",
       "      <td>1274.0</td>\n",
       "      <td>235.0</td>\n",
       "      <td>558.0</td>\n",
       "      <td>219.0</td>\n",
       "      <td>5.6431</td>\n",
       "      <td>341300.0</td>\n",
       "      <td>NEAR BAY</td>\n",
       "    </tr>\n",
       "    <tr>\n",
       "      <th>4</th>\n",
       "      <td>-122.25</td>\n",
       "      <td>37.85</td>\n",
       "      <td>52.0</td>\n",
       "      <td>1627.0</td>\n",
       "      <td>280.0</td>\n",
       "      <td>565.0</td>\n",
       "      <td>259.0</td>\n",
       "      <td>3.8462</td>\n",
       "      <td>342200.0</td>\n",
       "      <td>NEAR BAY</td>\n",
       "    </tr>\n",
       "  </tbody>\n",
       "</table>\n",
       "</div>"
      ],
      "text/plain": [
       "   longitude  latitude  housing_median_age  total_rooms  total_bedrooms  \\\n",
       "0    -122.23     37.88                41.0        880.0           129.0   \n",
       "1    -122.22     37.86                21.0       7099.0          1106.0   \n",
       "2    -122.24     37.85                52.0       1467.0           190.0   \n",
       "3    -122.25     37.85                52.0       1274.0           235.0   \n",
       "4    -122.25     37.85                52.0       1627.0           280.0   \n",
       "\n",
       "   population  households  median_income  median_house_value ocean_proximity  \n",
       "0       322.0       126.0         8.3252            452600.0        NEAR BAY  \n",
       "1      2401.0      1138.0         8.3014            358500.0        NEAR BAY  \n",
       "2       496.0       177.0         7.2574            352100.0        NEAR BAY  \n",
       "3       558.0       219.0         5.6431            341300.0        NEAR BAY  \n",
       "4       565.0       259.0         3.8462            342200.0        NEAR BAY  "
      ]
     },
     "execution_count": 292,
     "metadata": {},
     "output_type": "execute_result"
    }
   ],
   "source": [
    "house_data.head()"
   ]
  },
  {
   "cell_type": "code",
   "execution_count": 293,
   "id": "47fc4e19-a561-44ea-888c-5b5e91352dfa",
   "metadata": {},
   "outputs": [
    {
     "data": {
      "text/plain": [
       "<AxesSubplot:xlabel='median_house_value', ylabel='Count'>"
      ]
     },
     "execution_count": 293,
     "metadata": {},
     "output_type": "execute_result"
    },
    {
     "data": {
      "image/png": "[encoded data removed]",
      "text/plain": [
       "<Figure size 640x480 with 1 Axes>"
      ]
     },
     "metadata": {},
     "output_type": "display_data"
    }
   ],
   "source": [
    "sns.histplot(house_data.median_house_value, bins = 75)"
   ]
  },
  {
   "cell_type": "markdown",
   "id": "0a1f82a8-898c-479e-913f-8e06c9fd3c6a",
   "metadata": {},
   "source": [
    "#### Features"
   ]
  },
  {
   "cell_type": "code",
   "execution_count": 294,
   "id": "d5b34cd3-d931-4282-ab3d-d7c8b9c7e6e4",
   "metadata": {},
   "outputs": [],
   "source": [
    "houses = house_data[['longitude', 'latitude', 'housing_median_age', 'total_rooms', 'total_bedrooms', 'population', 'households', 'median_income', 'median_house_value']]\n",
    "# houses = house_data.drop('ocean_proximity', axis=1)"
   ]
  },
  {
   "cell_type": "markdown",
   "id": "ac662a7d-eb6b-41f0-b828-959118106bf3",
   "metadata": {},
   "source": [
    "#### Question 1"
   ]
  },
  {
   "cell_type": "code",
   "execution_count": 295,
   "id": "d286deb6-59a3-48fb-a8ff-ff612c77c274",
   "metadata": {},
   "outputs": [
    {
     "data": {
      "text/plain": [
       "longitude               0\n",
       "latitude                0\n",
       "housing_median_age      0\n",
       "total_rooms             0\n",
       "total_bedrooms        207\n",
       "population              0\n",
       "households              0\n",
       "median_income           0\n",
       "median_house_value      0\n",
       "dtype: int64"
      ]
     },
     "execution_count": 295,
     "metadata": {},
     "output_type": "execute_result"
    }
   ],
   "source": [
    "houses.isnull().sum()"
   ]
  },
  {
   "cell_type": "code",
   "execution_count": null,
   "id": "0a2fd084-6cb8-402f-bd9c-aff25aadcdb9",
   "metadata": {},
   "outputs": [],
   "source": []
  },
  {
   "cell_type": "markdown",
   "id": "b56e0970-8114-49ed-b54a-f2d425b95827",
   "metadata": {},
   "source": [
    "#### Question 2"
   ]
  },
  {
   "cell_type": "code",
   "execution_count": 296,
   "id": "b0f5b340-d1f4-488f-aa95-7d0427b6ad7d",
   "metadata": {},
   "outputs": [
    {
     "data": {
      "text/plain": [
       "1166.0"
      ]
     },
     "execution_count": 296,
     "metadata": {},
     "output_type": "execute_result"
    }
   ],
   "source": [
    "houses.population.median()"
   ]
  },
  {
   "cell_type": "code",
   "execution_count": null,
   "id": "fc135121-0d2c-4520-beb7-22436fbb54b8",
   "metadata": {},
   "outputs": [],
   "source": []
  },
  {
   "cell_type": "markdown",
   "id": "c406c981-bba7-4f68-be3c-8e9dc354db16",
   "metadata": {},
   "source": [
    "#### Spit the data"
   ]
  },
  {
   "cell_type": "code",
   "execution_count": 337,
   "id": "f7a2c4ea-6ea9-4841-aa15-7f0d5f2f45cc",
   "metadata": {},
   "outputs": [],
   "source": [
    "n = houses.shape[0]"
   ]
  },
  {
   "cell_type": "code",
   "execution_count": 338,
   "id": "37dcefd3-8442-45e0-ad90-fc58fb86fc29",
   "metadata": {},
   "outputs": [],
   "source": [
    "indx = np.arange(n)\n",
    "np.random.seed(42)\n",
    "np.random.shuffle(indx)"
   ]
  },
  {
   "cell_type": "code",
   "execution_count": 339,
   "id": "ff9841c3-7118-469f-8f0d-2b351f887a29",
   "metadata": {},
   "outputs": [],
   "source": [
    "n_val = int(n * 0.20)\n",
    "n_test = int(n * 0.20)\n",
    "n_train = n - n_val - n_test"
   ]
  },
  {
   "cell_type": "code",
   "execution_count": 340,
   "id": "3b5c3e6a-8385-4e3a-8404-4c52f69fe0c9",
   "metadata": {},
   "outputs": [],
   "source": [
    "df_train = houses.iloc[indx[:n_train]]\n",
    "df_val = houses.iloc[indx[n_train:n_train + n_val]]\n",
    "df_test = houses.iloc[indx[n_train + n_val:]]"
   ]
  },
  {
   "cell_type": "code",
   "execution_count": 341,
   "id": "4850840c-add0-454f-9eab-5d14121f7159",
   "metadata": {},
   "outputs": [],
   "source": [
    "df_train = df_train.reset_index(drop=True)\n",
    "df_val = df_val.reset_index(drop=True)\n",
    "df_test = df_test.reset_index(drop=True)"
   ]
  },
  {
   "cell_type": "code",
   "execution_count": 342,
   "id": "3ea58663-e13d-4f1e-a281-56f1ebb8b586",
   "metadata": {},
   "outputs": [],
   "source": [
    "y_train = np.log1p(df_train.median_house_value.values)\n",
    "y_val = np.log1p(df_val.median_house_value.values)\n",
    "y_test = np.log1p(df_test.median_house_value.values)"
   ]
  },
  {
   "cell_type": "code",
   "execution_count": 343,
   "id": "8f18bbf5-3f4e-4619-838d-dbcfbd82cc16",
   "metadata": {
    "tags": []
   },
   "outputs": [],
   "source": [
    "del df_train['median_house_value']\n",
    "del df_val['median_house_value']\n",
    "del df_test['median_house_value']"
   ]
  },
  {
   "cell_type": "code",
   "execution_count": null,
   "id": "1ab5505a-8f51-436f-b788-e95e2300d0af",
   "metadata": {},
   "outputs": [],
   "source": []
  },
  {
   "cell_type": "markdown",
   "id": "fe8cbbec-785b-4cc3-80b4-9125243fa418",
   "metadata": {},
   "source": [
    "#### Question 3"
   ]
  },
  {
   "cell_type": "code",
   "execution_count": 344,
   "id": "d47eb7cb-1837-40a0-976d-1854ab99217e",
   "metadata": {},
   "outputs": [],
   "source": [
    "def train_lin_reg(X, y):\n",
    "    ones = np.ones(X.shape[0])\n",
    "    X = np.column_stack([ones, X])\n",
    "    XTX = X.T.dot(X)\n",
    "    XTX_inv = np.linalg.inv(XTX)\n",
    "    w_full = XTX_inv.dot(X.T).dot(y)\n",
    "    return w_full[0], w_full[1:]"
   ]
  },
  {
   "cell_type": "code",
   "execution_count": 345,
   "id": "7fc42803-cef0-4f16-b29a-f5c5ab9323fa",
   "metadata": {},
   "outputs": [],
   "source": [
    "def rmse(y, y_pred):\n",
    "    error = y - y_pred\n",
    "    se = error ** 2\n",
    "    mse = se.mean()\n",
    "    rmse = np.sqrt(mse)\n",
    "    return round(rmse, 2)\n",
    "    # return rmse"
   ]
  },
  {
   "cell_type": "code",
   "execution_count": 346,
   "id": "aefdca60-0be8-4dc5-affa-708decae2311",
   "metadata": {},
   "outputs": [],
   "source": [
    "def prepare_X(df, missing):\n",
    "    df = df.copy()\n",
    "    df = df.fillna(missing)\n",
    "    X = df.values \n",
    "    return X "
   ]
  },
  {
   "cell_type": "code",
   "execution_count": 347,
   "id": "7089dc05-1fc5-45c9-8e8f-779cf00d132d",
   "metadata": {},
   "outputs": [],
   "source": [
    "mean_value = df_train['total_bedrooms'].mean()"
   ]
  },
  {
   "cell_type": "code",
   "execution_count": 348,
   "id": "9903d7eb-b305-4dbf-b910-e0fe3fc0bd5b",
   "metadata": {},
   "outputs": [
    {
     "data": {
      "text/plain": [
       "0.33"
      ]
     },
     "execution_count": 348,
     "metadata": {},
     "output_type": "execute_result"
    }
   ],
   "source": [
    "X_train = prepare_X(df_train, missing = 0)\n",
    "w0, w = train_lin_reg(X_train, y_train)\n",
    "\n",
    "X_val = prepare_X(df_val, missing = 0)\n",
    "y_pred = w0 + X_val.dot(w)  \n",
    "\n",
    "rmse(y_val, y_pred)"
   ]
  },
  {
   "cell_type": "code",
   "execution_count": 349,
   "id": "1b6f3001-a70f-4cae-93a3-e0940d0f26e0",
   "metadata": {},
   "outputs": [
    {
     "data": {
      "text/plain": [
       "0.33"
      ]
     },
     "execution_count": 349,
     "metadata": {},
     "output_type": "execute_result"
    }
   ],
   "source": [
    "X_train = prepare_X(df_train, missing = mean_value)\n",
    "w0, w = train_lin_reg(X_train, y_train)\n",
    "\n",
    "X_val = prepare_X(df_val, missing = mean_value)\n",
    "y_pred = w0 + X_val.dot(w)  \n",
    "\n",
    "rmse(y_val, y_pred)"
   ]
  },
  {
   "cell_type": "code",
   "execution_count": null,
   "id": "7fdfab7e-f5b0-4e0d-9ac9-dfa2788b687d",
   "metadata": {},
   "outputs": [],
   "source": []
  },
  {
   "cell_type": "markdown",
   "id": "e60a9e7e-a24c-4df5-9b95-d370f4564f18",
   "metadata": {},
   "source": [
    "#### Question 4"
   ]
  },
  {
   "cell_type": "code",
   "execution_count": 350,
   "id": "60346c7a-eed1-447f-b298-d7600e0c9e72",
   "metadata": {},
   "outputs": [],
   "source": [
    "def train_lin_reg_r(X, y, r):\n",
    "    ones = np.ones(X.shape[0])\n",
    "    X = np.column_stack([ones, X])\n",
    "    XTX = X.T.dot(X)\n",
    "    XTX = XTX + r * np.eye(XTX.shape[0])\n",
    "    XTX_inv = np.linalg.inv(XTX)\n",
    "    w_full = XTX_inv.dot(X.T).dot(y)\n",
    "    return w_full[0], w_full[1:]"
   ]
  },
  {
   "cell_type": "code",
   "execution_count": 351,
   "id": "a2e27238-b92c-49c2-b663-c5059957d11e",
   "metadata": {},
   "outputs": [
    {
     "name": "stdout",
     "output_type": "stream",
     "text": [
      "0 0.33\n",
      "1e-06 0.33\n",
      "0.0001 0.33\n",
      "0.001 0.33\n",
      "0.01 0.33\n",
      "0.1 0.33\n",
      "1 0.33\n",
      "5 0.34\n",
      "10 0.34\n"
     ]
    }
   ],
   "source": [
    "for r in [0, 0.000001, 0.0001, 0.001, 0.01, 0.1, 1, 5, 10]:\n",
    "    \n",
    "    X_train = prepare_X(df_train, missing = 0)\n",
    "    w0, w = train_lin_reg_r(X_train, y_train, r=r)\n",
    "    \n",
    "    X_val = prepare_X(df_val, missing = 0)\n",
    "    y_pred = w0 + X_val.dot(w)  \n",
    "   \n",
    "    score = rmse(y_val, y_pred)\n",
    "    \n",
    "    print(r, score)"
   ]
  },
  {
   "cell_type": "code",
   "execution_count": null,
   "id": "11f0b29d-e6de-44b8-8ae7-63a31e6e4921",
   "metadata": {},
   "outputs": [],
   "source": []
  },
  {
   "cell_type": "markdown",
   "id": "f7c40e12-c90a-415d-9624-237d0bba4ab0",
   "metadata": {},
   "source": [
    "#### Question 5"
   ]
  },
  {
   "cell_type": "code",
   "execution_count": 352,
   "id": "3130ceac-0a15-4c41-9fb2-9ab8b0a5ea9b",
   "metadata": {},
   "outputs": [],
   "source": [
    "def split(df, s, val_perc, test_perc, target):\n",
    "    \n",
    "    n = df.shape[0]\n",
    "    \n",
    "    indx = np.arange(n)\n",
    "    np.random.seed(s)\n",
    "    np.random.shuffle(indx)\n",
    "    \n",
    "    n_val = int(n * val_perc)\n",
    "    n_test = int(n * test_perc)\n",
    "    n_train = n - n_val - n_test\n",
    "    \n",
    "    df_train = df.iloc[indx[:n_train]]\n",
    "    df_val = df.iloc[indx[n_train:n_train + n_val]]\n",
    "    df_test = df.iloc[indx[n_train + n_val:]]\n",
    "    \n",
    "    df_train = df_train.reset_index(drop=True)\n",
    "    df_val = df_val.reset_index(drop=True)\n",
    "    df_test = df_test.reset_index(drop=True)\n",
    "    \n",
    "    y_train = np.log1p(df_train[target].values)\n",
    "    y_val = np.log1p(df_val[target].values)\n",
    "    y_test = np.log1p(df_test[target].values)\n",
    "    \n",
    "    del df_train[target]\n",
    "    del df_val[target]\n",
    "    del df_test[target]\n",
    "    \n",
    "    return df_train, df_val, df_test, y_train, y_val, y_test"
   ]
  },
  {
   "cell_type": "code",
   "execution_count": 353,
   "id": "3214b275-f4c8-48de-bd22-ae04dceafd37",
   "metadata": {},
   "outputs": [],
   "source": [
    "s = [0, 1, 2, 3, 4, 5, 6, 7, 8, 9]\n",
    "\n",
    "scores = []\n",
    "\n",
    "for s in s:\n",
    "    \n",
    "    df_train, df_val, df_test, y_train, y_val, y_test = split(houses, s, val_perc=0.20, test_perc=0.20, target='median_house_value')    \n",
    "    \n",
    "    X_train = prepare_X(df_train, missing = 0)\n",
    "    w0, w = train_lin_reg(X_train, y_train)\n",
    "\n",
    "    X_val = prepare_X(df_val, missing = 0)\n",
    "    y_pred = w0 + X_val.dot(w)  \n",
    "\n",
    "    score = rmse(y_val, y_pred)\n",
    "    \n",
    "    scores.append(score)"
   ]
  },
  {
   "cell_type": "code",
   "execution_count": 354,
   "id": "44aa456c-18df-4c07-9bfd-0b3764cf4565",
   "metadata": {},
   "outputs": [
    {
     "data": {
      "text/plain": [
       "[0.34, 0.34, 0.33, 0.34, 0.34, 0.34, 0.35, 0.34, 0.35, 0.34]"
      ]
     },
     "execution_count": 354,
     "metadata": {},
     "output_type": "execute_result"
    }
   ],
   "source": [
    "scores"
   ]
  },
  {
   "cell_type": "code",
   "execution_count": 355,
   "id": "69e0de8a-2905-4698-91ed-5fa70fd62824",
   "metadata": {},
   "outputs": [
    {
     "data": {
      "text/plain": [
       "0.005"
      ]
     },
     "execution_count": 355,
     "metadata": {},
     "output_type": "execute_result"
    }
   ],
   "source": [
    "round(np.std(scores),3)"
   ]
  },
  {
   "cell_type": "code",
   "execution_count": null,
   "id": "7de24a7b-cb5a-4998-a263-df4d6c71cbf0",
   "metadata": {},
   "outputs": [],
   "source": []
  },
  {
   "cell_type": "markdown",
   "id": "eb15ee54-3f14-43f4-9797-32497f1ef80d",
   "metadata": {},
   "source": [
    "#### Question 6"
   ]
  },
  {
   "cell_type": "code",
   "execution_count": 356,
   "id": "d2bad603-7d8b-45e8-ac72-8cdac19dca59",
   "metadata": {},
   "outputs": [],
   "source": [
    "df_train, df_val, df_test, y_train, y_val, y_test = split(houses, s=9, val_perc=0.20, test_perc=0.20, target='median_house_value')    "
   ]
  },
  {
   "cell_type": "code",
   "execution_count": 357,
   "id": "12a10eb5-4739-4eda-9993-78220dfef754",
   "metadata": {},
   "outputs": [],
   "source": [
    "df_full_train = pd.concat([df_train, df_val])"
   ]
  },
  {
   "cell_type": "code",
   "execution_count": 358,
   "id": "39d3598b-7e3c-4c05-8ce7-b0d514385971",
   "metadata": {},
   "outputs": [],
   "source": [
    "df_full_train = df_full_train.reset_index(drop=True)"
   ]
  },
  {
   "cell_type": "code",
   "execution_count": 359,
   "id": "6c6c9cc1-f6d8-481f-8cce-fede5ce864a1",
   "metadata": {},
   "outputs": [],
   "source": [
    "X_full_train = prepare_X(df_full_train, missing=0)"
   ]
  },
  {
   "cell_type": "code",
   "execution_count": 360,
   "id": "ac3144e5-d940-4613-922c-7781a00b40e5",
   "metadata": {},
   "outputs": [],
   "source": [
    "y_full_train = np.concatenate([y_train, y_val])"
   ]
  },
  {
   "cell_type": "code",
   "execution_count": 361,
   "id": "fe8840d6-c860-43bb-8a28-63d7dff0cb17",
   "metadata": {},
   "outputs": [],
   "source": [
    "w0, w = train_lin_reg_r(X_full_train, y_full_train, r=0.001)"
   ]
  },
  {
   "cell_type": "code",
   "execution_count": 362,
   "id": "efd6728e-0ab7-4b44-864b-1eb009de511e",
   "metadata": {},
   "outputs": [],
   "source": [
    "X_test = prepare_X(df_test, missing=0)"
   ]
  },
  {
   "cell_type": "code",
   "execution_count": 363,
   "id": "e6b8ba2b-4172-4d86-b1be-92753194caaa",
   "metadata": {},
   "outputs": [
    {
     "data": {
      "text/plain": [
       "0.35"
      ]
     },
     "execution_count": 363,
     "metadata": {},
     "output_type": "execute_result"
    }
   ],
   "source": [
    "y_pred = w0 + X_test.dot(w)   \n",
    "score = rmse(y_test, y_pred)    \n",
    "round(score, 2)"
   ]
  },
  {
   "cell_type": "code",
   "execution_count": null,
   "id": "e2972377-50ef-450f-a469-6be45481ad08",
   "metadata": {},
   "outputs": [],
   "source": []
  }
 ],
 "metadata": {
  "kernelspec": {
   "display_name": "Python 3 (ipykernel)",
   "language": "python",
   "name": "python3"
  },
  "language_info": {
   "codemirror_mode": {
    "name": "ipython",
    "version": 3
   },
   "file_extension": ".py",
   "mimetype": "text/x-python",
   "name": "python",
   "nbconvert_exporter": "python",
   "pygments_lexer": "ipython3",
   "version": "3.10.4"
  }
 },
 "nbformat": 4,
 "nbformat_minor": 5
}
